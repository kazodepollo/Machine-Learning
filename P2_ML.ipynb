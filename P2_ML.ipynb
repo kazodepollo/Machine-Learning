{
  "nbformat": 4,
  "nbformat_minor": 0,
  "metadata": {
    "colab": {
      "provenance": []
    },
    "kernelspec": {
      "name": "python3",
      "display_name": "Python 3"
    },
    "language_info": {
      "name": "python"
    }
  },
  "cells": [
    {
      "cell_type": "code",
      "execution_count": null,
      "metadata": {
        "id": "ULNVveeEV-bk"
      },
      "outputs": [],
      "source": [
        "'''\n",
        "Práctica 2\n",
        "\n",
        "Juan Carlos Briones Cruz\n",
        "Alvarez Garcia Brandon Azarael\n",
        "\n",
        "\n",
        "Práctica para evaluar el uso del clasificador kNN. Para realizar esta actividad se deberá:\n",
        "\n",
        "1. Utilizar el método de validación k-fold  cross-validation con k = 10 (Usar la función StratifiedKFold de sklearn) sobre el banco de datos IrisPlant \n",
        "original (usar la instrucción load_iris de sklearn)\n",
        "\n",
        "2. Probar el clasificador kNN con valores de k=1,4,7 (Usar la función KNeighborsClassifier de sklearn)\n",
        "\n",
        "3. Reportar las métricas promedio de las 10 ejecuciones del k-fold  cross-validation. Las métricas a reportar son Exactitud, Sensibilidad, Precisión y f1-score.\n",
        "\n",
        "'''"
      ]
    },
    {
      "cell_type": "code",
      "source": [
        "from sklearn import *\n",
        "from sklearn.model_selection import *\n",
        "from sklearn.pipeline import Pipeline\n",
        "from sklearn.metrics import *\n",
        "from sklearn.neighbors import KNeighborsClassifier as knn\n",
        "from numpy.core.fromnumeric import mean"
      ],
      "metadata": {
        "id": "i7LBRM7EWd-C"
      },
      "execution_count": 1,
      "outputs": []
    },
    {
      "cell_type": "code",
      "source": [
        "# Variables donde se irán acumulando los valores para cada una de las metricas\n",
        "\n",
        "precisionTotal = []\n",
        "accTotal = []\n",
        "f1Total = []\n",
        "recallTotal = []"
      ],
      "metadata": {
        "id": "DHcC7cctO1xc"
      },
      "execution_count": 12,
      "outputs": []
    },
    {
      "cell_type": "code",
      "source": [
        "# Funcion del paso 1, donde K para KFold = 10 y KNN K = 10\n",
        "\n",
        "def kFold10Times():\n",
        "    \n",
        "        X, y = datasets.load_iris(return_X_y=True)\n",
        "\n",
        "        skf = StratifiedKFold(n_splits=10, random_state=42, shuffle=True)\n",
        "\n",
        "        skf.get_n_splits(X, y)\n",
        "\n",
        "        for i, (train_index, test_index) in enumerate(skf.split(X, y)):\n",
        "            # Declaracion del modelo\n",
        "            knn_model = knn(n_neighbors=10)  # Modificanos K_Neighhbors\n",
        "            '''\n",
        "            # Pruebas\n",
        "            print(f\"Fold {i}\")\n",
        "            print(f\"  Train: index={train_index}\")\n",
        "            print(f\"  Test:  index={test_index}\")\n",
        "            #print(\"TRAIN:\", train_index, \"\\n\",  \"TEST:\", test_index)\n",
        "            '''\n",
        "            \n",
        "            # Obtenemos los parametros X Y de entrenamiento y prueba\n",
        "            X_train, X_test = X[train_index], X[test_index]\n",
        "            y_train, y_test = y[train_index], y[test_index]\n",
        "\n",
        "            # Entrenamos el modelo con KNN y damos los parametros de entrenamiento\n",
        "            knn_model.fit(X_train,y_train)\n",
        "\n",
        "            # Tomamos las predicciones con el set de prueba\n",
        "            y_predicted = knn_model.predict(X_test)\n",
        "\n",
        "            #Metricas\n",
        "\n",
        "              # Accuracy\n",
        "            knn_acc = accuracy_score(y_test,y_predicted)\n",
        "            accTotal.append(knn_acc)\n",
        "              # Precision\n",
        "            knn_prec = precision_score(y_test,y_predicted,average = 'macro')\n",
        "            precisionTotal.append(knn_prec)\n",
        "              # F1 Score\n",
        "            knn_f1 = f1_score(y_test,y_predicted,average = 'macro')\n",
        "            f1Total.append(knn_f1)\n",
        "              # Recall Score\n",
        "            knn_recall = recall_score(y_test,y_predicted,average = 'macro')\n",
        "            recallTotal.append(knn_recall)\n",
        "        \n",
        "kFold10Times()\n",
        "\n",
        "# Impresión de resultados\n",
        "\n",
        "print(\"Accuracy promedio: \\t\", mean(accTotal))\n",
        "print(\"\\nPrecision promedio: \\t\", mean(precisionTotal))\n",
        "print(\"\\nf1 promedio: \\t\\t\", mean(f1Total))\n",
        "print(\"\\nSensibility promedio: \\t\", mean(recallTotal))\n"
      ],
      "metadata": {
        "colab": {
          "base_uri": "https://localhost:8080/"
        },
        "id": "_ZUFfanm0_G0",
        "outputId": "35511376-1b9b-4bf2-eeb2-cb145f9eafda"
      },
      "execution_count": 18,
      "outputs": [
        {
          "output_type": "stream",
          "name": "stdout",
          "text": [
            "Accuracy promedio: \t 0.96\n",
            "\n",
            "Precision promedio: \t 0.9653968253968255\n",
            "\n",
            "f1 promedio: \t\t 0.9594781144781145\n",
            "\n",
            "Sensibility promedio: \t 0.96\n"
          ]
        }
      ]
    },
    {
      "cell_type": "code",
      "source": [
        "# Funcion que no permitirá hacer instancias de K para KNN se requieran \n",
        "def kFoldKTimes(times):\n",
        "    \n",
        "        X, y = datasets.load_iris(return_X_y=True)\n",
        "\n",
        "        skf = StratifiedKFold(n_splits=10, random_state=42, shuffle=True)\n",
        "        skf.get_n_splits(X, y)\n",
        "\n",
        "        for i, (train_index, test_index) in enumerate(skf.split(X, y)):\n",
        "            # Declaracion del modelo\n",
        "            knn_model = knn(n_neighbors=times)  # Modificanos K_Neighhbors\n",
        "            '''\n",
        "            print(f\"Fold {i}\")\n",
        "            print(f\"  Train: index={train_index}\")\n",
        "            print(f\"  Test:  index={test_index}\")\n",
        "            #print(\"TRAIN:\", train_index, \"\\n\",  \"TEST:\", test_index)\n",
        "            '''\n",
        "            X_train, X_test = X[train_index], X[test_index]\n",
        "            y_train, y_test = y[train_index], y[test_index]\n",
        "\n",
        "            knn_model.fit(X_train,y_train)\n",
        "            \n",
        "            # Tomamos las predicciones\n",
        "            y_predicted = knn_model.predict(X_test)\n",
        "\n",
        "            # Metricas\n",
        "\n",
        "              # Accuracy\n",
        "            knn_acc = accuracy_score(y_test,y_predicted)\n",
        "            accTotal.append(knn_acc)\n",
        "              # Precision\n",
        "            knn_prec = precision_score(y_test,y_predicted,average = 'macro')\n",
        "            precisionTotal.append(knn_prec)\n",
        "              # F1 Score\n",
        "            knn_f1 = f1_score(y_test,y_predicted,average = 'macro')\n",
        "            f1Total.append(knn_f1)\n",
        "\n",
        "            knn_recall = recall_score(y_test,y_predicted,average = 'macro')\n",
        "            recallTotal.append(knn_recall)"
      ],
      "metadata": {
        "id": "_MRLLLlGAtye"
      },
      "execution_count": 14,
      "outputs": []
    },
    {
      "cell_type": "code",
      "source": [
        "# KNN W/ K=1\n",
        "\n",
        "kFoldKTimes(1)\n",
        "\n",
        "print(\"Accuracy promedio: \\t\", mean(accTotal))\n",
        "print(\"\\nPrecision promedio: \\t\", mean(precisionTotal))\n",
        "print(\"\\nf1 promedio: \\t\\t\", mean(f1Total))\n",
        "print(\"\\nSensibility promedio: \\t\", mean(recallTotal))\n"
      ],
      "metadata": {
        "colab": {
          "base_uri": "https://localhost:8080/"
        },
        "id": "Hn5SUrD9A_T1",
        "outputId": "32f3a2af-4371-4d93-b8e7-5319bd9c62d3"
      },
      "execution_count": 15,
      "outputs": [
        {
          "output_type": "stream",
          "name": "stdout",
          "text": [
            "Accuracy promedio: \t 0.96\n",
            "\n",
            "Precision promedio: \t 0.966031746031746\n",
            "\n",
            "f1 promedio: \t\t 0.9593097643097644\n",
            "\n",
            "Sensibility promedio: \t 0.96\n"
          ]
        }
      ]
    },
    {
      "cell_type": "code",
      "source": [
        "# KNN W/ K=4 times\n",
        "\n",
        "kFoldKTimes(4)\n",
        "\n",
        "print(\"Accuracy promedio: \\t\", mean(accTotal))\n",
        "print(\"\\nPrecision promedio: \\t\", mean(precisionTotal))\n",
        "print(\"\\nf1 promedio: \\t\\t\", mean(f1Total))\n",
        "print(\"\\nSensibility promedio: \\t\", mean(recallTotal))"
      ],
      "metadata": {
        "colab": {
          "base_uri": "https://localhost:8080/"
        },
        "id": "J1qCkMIbBWU_",
        "outputId": "286ce39f-d7c2-4c8f-8a03-c061b23a43d0"
      },
      "execution_count": 16,
      "outputs": [
        {
          "output_type": "stream",
          "name": "stdout",
          "text": [
            "Accuracy promedio: \t 0.9600000000000001\n",
            "\n",
            "Precision promedio: \t 0.966031746031746\n",
            "\n",
            "f1 promedio: \t\t 0.9593097643097643\n",
            "\n",
            "Sensibility promedio: \t 0.9600000000000001\n"
          ]
        }
      ]
    },
    {
      "cell_type": "code",
      "source": [
        "# KNN W/ K=7 times\n",
        "\n",
        "kFoldKTimes(7)\n",
        "\n",
        "print(\"Accuracy promedio: \\t\", mean(accTotal))\n",
        "print(\"\\nPrecision promedio: \\t\", mean(precisionTotal))\n",
        "print(\"\\nf1 promedio: \\t\\t\", mean(f1Total))\n",
        "print(\"\\nSensibility promedio: \\t\", mean(recallTotal))"
      ],
      "metadata": {
        "colab": {
          "base_uri": "https://localhost:8080/"
        },
        "id": "RQHy6SHIB2Vr",
        "outputId": "f26f9889-c6d1-40ab-9687-9ffb3dd05cfa"
      },
      "execution_count": 17,
      "outputs": [
        {
          "output_type": "stream",
          "name": "stdout",
          "text": [
            "Accuracy promedio: \t 0.9633333333333335\n",
            "\n",
            "Precision promedio: \t 0.968968253968254\n",
            "\n",
            "f1 promedio: \t\t 0.9627483164983165\n",
            "\n",
            "Sensibility promedio: \t 0.9633333333333333\n"
          ]
        }
      ]
    }
  ]
}
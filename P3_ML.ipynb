{
  "nbformat": 4,
  "nbformat_minor": 0,
  "metadata": {
    "colab": {
      "provenance": []
    },
    "kernelspec": {
      "name": "python3",
      "display_name": "Python 3"
    },
    "language_info": {
      "name": "python"
    }
  },
  "cells": [
    {
      "cell_type": "code",
      "execution_count": null,
      "metadata": {
        "id": "ULNVveeEV-bk"
      },
      "outputs": [],
      "source": [
        "'''\n",
        "Práctica 3\n",
        "\n",
        "Juan Carlos Briones Cruz\n",
        "Alvarez Garcia Brandon Azarael\n",
        "\n",
        "Práctica para evaluar el uso del clasificador Naïve Bayes. Para realizar esta actividad se deberá:\n",
        "\n",
        "1. Utilizar el método de validación k-fold  cross-validation con k = 10 (Usar la función StratifiedKFold de sklearn) sobre el banco de datos IrisPlant original (usar la instrucción load_iris de sklearn)\n",
        "\n",
        "2. Probar el clasificador Naïve Bayes (usar la función GaussianNB de sklearn)\n",
        "\n",
        "3. Reportar las métricas promedio de las 10 ejecuciones del k-fold  cross-validation. Las métricas a reportar son Exactitud, Sensibilidad, Precisión y f1-score.\n",
        "\n",
        "'''"
      ]
    },
    {
      "cell_type": "code",
      "source": [
        "from sklearn import *\n",
        "from sklearn.model_selection import *\n",
        "from sklearn.pipeline import Pipeline\n",
        "from sklearn.metrics import *\n",
        "from sklearn.naive_bayes import GaussianNB\n",
        "from numpy.core.fromnumeric import mean"
      ],
      "metadata": {
        "id": "i7LBRM7EWd-C"
      },
      "execution_count": 2,
      "outputs": []
    },
    {
      "cell_type": "code",
      "source": [
        "# Variables donde se irán acumulando los valores para cada una de las metricas\n",
        "\n",
        "precisionTotal = []\n",
        "accTotal = []\n",
        "f1Total = []\n",
        "recallTotal = []"
      ],
      "metadata": {
        "id": "DHcC7cctO1xc"
      },
      "execution_count": 3,
      "outputs": []
    },
    {
      "cell_type": "code",
      "source": [
        "# Funcion del paso 1, donde K para KFold = 10\n",
        "\n",
        "def kFold10Times():\n",
        "    \n",
        "        X, y = datasets.load_iris(return_X_y=True)\n",
        "\n",
        "        skf = StratifiedKFold(n_splits=10, random_state=42, shuffle=True)\n",
        "\n",
        "        skf.get_n_splits(X, y)\n",
        "\n",
        "        for i, (train_index, test_index) in enumerate(skf.split(X, y)):\n",
        "            # Declaracion del modelo\n",
        "            gaussianNB_model = GaussianNB()\n",
        "            '''\n",
        "            # Pruebas\n",
        "            print(f\"Fold {i}\")\n",
        "            print(f\"  Train: index={train_index}\")\n",
        "            print(f\"  Test:  index={test_index}\")\n",
        "            #print(\"TRAIN:\", train_index, \"\\n\",  \"TEST:\", test_index)\n",
        "            '''\n",
        "            \n",
        "            # Obtenemos los parametros X Y de entrenamiento y prueba\n",
        "            X_train, X_test = X[train_index], X[test_index]\n",
        "            y_train, y_test = y[train_index], y[test_index]\n",
        "\n",
        "            # Entrenamos el modelo con KNN y damos los parametros de entrenamiento\n",
        "            gaussianNB_model.fit(X_train,y_train)\n",
        "\n",
        "            # Tomamos las predicciones con el set de prueba\n",
        "            y_predicted = gaussianNB_model.predict(X_test)\n",
        "\n",
        "            #Metricas\n",
        "\n",
        "              # Accuracy\n",
        "            acc = accuracy_score(y_test,y_predicted)\n",
        "            accTotal.append(acc)\n",
        "              # Precision\n",
        "            prec = precision_score(y_test,y_predicted,average = 'macro')\n",
        "            precisionTotal.append(prec)\n",
        "              # F1 Score\n",
        "            f1 = f1_score(y_test,y_predicted,average = 'macro')\n",
        "            f1Total.append(f1)\n",
        "              # Recall Score\n",
        "            recall = recall_score(y_test,y_predicted,average = 'macro')\n",
        "            recallTotal.append(recall)\n",
        "        \n",
        "kFold10Times()\n",
        "\n",
        "# Impresión de resultados\n",
        "print(\"\\n -> Métricas <-\\n\")\n",
        "print(\"Accuracy promedio: \\t\", mean(accTotal))\n",
        "print(\"\\nPrecision promedio: \\t\", mean(precisionTotal))\n",
        "print(\"\\nf1 promedio: \\t\\t\", mean(f1Total))\n",
        "print(\"\\nSensibility promedio: \\t\", mean(recallTotal))\n"
      ],
      "metadata": {
        "colab": {
          "base_uri": "https://localhost:8080/"
        },
        "id": "_ZUFfanm0_G0",
        "outputId": "529a95ac-fb3b-4434-c299-87573bcf2f89"
      },
      "execution_count": 4,
      "outputs": [
        {
          "output_type": "stream",
          "name": "stdout",
          "text": [
            "\n",
            " -> Métricas <-\n",
            "\n",
            "Accuracy promedio: \t 0.9533333333333334\n",
            "\n",
            "Precision promedio: \t 0.9604761904761906\n",
            "\n",
            "f1 promedio: \t\t 0.9525757575757575\n",
            "\n",
            "Sensibility promedio: \t 0.9533333333333334\n"
          ]
        }
      ]
    }
  ]
}